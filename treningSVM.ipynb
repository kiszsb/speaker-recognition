{
  "nbformat": 4,
  "nbformat_minor": 0,
  "metadata": {
    "colab": {
      "provenance": []
    },
    "kernelspec": {
      "name": "python3",
      "display_name": "Python 3"
    },
    "language_info": {
      "name": "python"
    }
  },
  "cells": [
    {
      "cell_type": "code",
      "source": [
        "#install\n",
        "!pip install python_speech_features"
      ],
      "metadata": {
        "colab": {
          "base_uri": "https://localhost:8080/"
        },
        "id": "g-f-sfk1zeBn",
        "outputId": "7b3ffc58-b26b-43aa-eef2-bf8e04282170"
      },
      "execution_count": null,
      "outputs": [
        {
          "output_type": "stream",
          "name": "stdout",
          "text": [
            "Looking in indexes: https://pypi.org/simple, https://us-python.pkg.dev/colab-wheels/public/simple/\n",
            "Collecting python_speech_features\n",
            "  Downloading python_speech_features-0.6.tar.gz (5.6 kB)\n",
            "  Preparing metadata (setup.py) ... \u001b[?25l\u001b[?25hdone\n",
            "Building wheels for collected packages: python_speech_features\n",
            "  Building wheel for python_speech_features (setup.py) ... \u001b[?25l\u001b[?25hdone\n",
            "  Created wheel for python_speech_features: filename=python_speech_features-0.6-py3-none-any.whl size=5889 sha256=2f7e837459d7f701b90c72631bbcfe37d0b8202ed0f1eaf49d93ee844392797a\n",
            "  Stored in directory: /root/.cache/pip/wheels/5b/60/87/28af2605138deac93d162904df42b6fdda1dab9b8757c62aa3\n",
            "Successfully built python_speech_features\n",
            "Installing collected packages: python_speech_features\n",
            "Successfully installed python_speech_features-0.6\n"
          ]
        }
      ]
    },
    {
      "cell_type": "code",
      "execution_count": null,
      "metadata": {
        "id": "A13FF_iyuAc7"
      },
      "outputs": [],
      "source": [
        "import _pickle as cPickle\n",
        "import numpy as np\n",
        "import pandas as pd\n",
        "from scipy.io.wavfile import read\n",
        "import matplotlib.pyplot as plt\n",
        "import time\n",
        "import os\n",
        "import numpy as np\n",
        "from sklearn import preprocessing\n",
        "import seaborn as sn\n",
        "from sklearn.metrics import confusion_matrix, multilabel_confusion_matrix\n",
        "import python_speech_features \n",
        "from collections import Counter\n",
        "from sklearn.svm import SVC\n",
        "import warnings\n",
        "warnings.filterwarnings(\"ignore\")"
      ]
    },
    {
      "cell_type": "code",
      "source": [
        "from google.colab import drive\n",
        "drive.mount('/content/drive')"
      ],
      "metadata": {
        "colab": {
          "base_uri": "https://localhost:8080/"
        },
        "id": "VTnHGcT8BoYj",
        "outputId": "a334f2ec-0f14-4164-aea5-68a3327d344a"
      },
      "execution_count": null,
      "outputs": [
        {
          "output_type": "stream",
          "name": "stdout",
          "text": [
            "Mounted at /content/drive\n"
          ]
        }
      ]
    },
    {
      "cell_type": "code",
      "source": [
        "cd drive/MyDrive/Mgr/EASAR"
      ],
      "metadata": {
        "colab": {
          "base_uri": "https://localhost:8080/"
        },
        "id": "wr1-XTBOCcll",
        "outputId": "e842e76f-264d-46d8-ed60-b01eb8f75f15"
      },
      "execution_count": null,
      "outputs": [
        {
          "output_type": "stream",
          "name": "stdout",
          "text": [
            "/content/drive/.shortcut-targets-by-id/1cCSqf0S8VsSbj8YH3OUMmtEEr6QfM5kf/EASAR\n"
          ]
        }
      ]
    },
    {
      "cell_type": "code",
      "source": [
        "def calculate_delta(mfcc, number):\n",
        "    \"\"\"Calculate differential coefficients\"\"\"\n",
        "\n",
        "    rows,cols = mfcc.shape\n",
        "    deltas = np.zeros((rows,number))\n",
        "    N = 2\n",
        "    for i in range(rows):\n",
        "        index = []\n",
        "        j = 1\n",
        "        while j <= N:\n",
        "            if i-j < 0:\n",
        "                first = 0\n",
        "            else:\n",
        "                first = i-j\n",
        "            if i+j > rows -1:\n",
        "                second = rows -1\n",
        "            else:\n",
        "                second = i+j\n",
        "            index.append((second,first))\n",
        "            j+=1\n",
        "        deltas[i] = ( mfcc[index[0][0]]-mfcc[index[0][1]] + (2 * (mfcc[index[1][0]]-mfcc[index[1][1]])) ) / 10\n",
        "    return deltas\n",
        "\n",
        "def extract_features(signal,rate):\n",
        "     \n",
        "    #signal, rate, length of widow in ms, step between successive windows in seconds, the number of cepstrum to return, \n",
        "    #appendEnergy – if this is true, the zeroth cepstral coefficient is replaced with the log of the total frame energy.\n",
        "    mfcc_numb = 5\n",
        "    mfcc_feature = python_speech_features.mfcc(signal,rate, 0.025, 0.01,mfcc_numb,appendEnergy = True)\n",
        "    \n",
        "    mfcc_feature = preprocessing.scale(mfcc_feature) #standarize data\n",
        "    delta = calculate_delta(mfcc_feature, mfcc_numb)\n",
        "    combined = np.hstack((mfcc_feature,delta)) \n",
        "    return combined"
      ],
      "metadata": {
        "id": "hNDrc-zmzLoA"
      },
      "execution_count": null,
      "outputs": []
    },
    {
      "cell_type": "code",
      "source": [
        "#paths to data\n",
        "source   = \"baza_arg/\"\n",
        "#path where training speakers will be saved\n",
        "dest = \"speaker_models_arg_svm/\"\n",
        "train_file = \"baza_arg_enroll.txt\" # \n",
        "n_files = 5"
      ],
      "metadata": {
        "id": "BhIxGagJyGWB"
      },
      "execution_count": null,
      "outputs": []
    },
    {
      "cell_type": "code",
      "source": [
        "count = 1\n",
        "file_paths = open(train_file,'r')\n",
        "\n",
        "label_dict = {}\n",
        "y_train = []\n",
        "x_train = np.asarray(())\n",
        "features = np.asarray(())\n",
        "avg_data = 0\n",
        "training_data = 0\n",
        "# Extracting features for each speaker (5 files per speakers)\n",
        "for i, path in enumerate(file_paths):    \n",
        "    path = path.strip()   \n",
        "    # read the audio    \n",
        "    Fs, audio = read(source + path)\n",
        "    # extract 40 dimensional MFCC & delta MFCC features\n",
        "\n",
        "    vector = extract_features(audio, Fs)\n",
        "    training_data += len(audio)\n",
        "    print( path)\n",
        "\n",
        "    if features.size == 0:\n",
        "        features = vector\n",
        "    else:\n",
        "        features = np.vstack((features, vector))\n",
        "    # when features of 5 files of speaker are concatenated, then do model \n",
        "    if count == n_files:    \n",
        "        if x_train.size == 0:\n",
        "            x_train = features\n",
        "        else:\n",
        "            x_train = np.vstack((x_train, features))\n",
        "        for j in range(len(features)):\n",
        "            y_train.append((i+1)//n_files)\n",
        "        \n",
        "        mn = features.shape\n",
        "        print ('+ modeling completed for speaker:',path.split(\"-\")[0],\".svm\",\" with data point = \",mn)\n",
        "        features = np.asarray(())\n",
        "        label_dict[(i+1)//n_files] = path.split(\"-\")[0]\n",
        "        \n",
        "        training_data = 0\n",
        "        count = 0\n",
        "    count = count + 1\n",
        "file_paths.close()\n"
      ],
      "metadata": {
        "colab": {
          "base_uri": "https://localhost:8080/"
        },
        "id": "SMc4jtflyftw",
        "outputId": "5cafcc07-7e7a-49cb-873f-bf3b237e29bf"
      },
      "execution_count": null,
      "outputs": [
        {
          "output_type": "stream",
          "name": "stdout",
          "text": [
            "speaker1-/n0010101.wav\n",
            "speaker1-/n0010102.wav\n",
            "speaker1-/n0010103.wav\n",
            "speaker1-/n0010104.wav\n",
            "speaker1-/n0010105.wav\n",
            "+ modeling completed for speaker: speaker1 .svm  with data point =  (563, 10)\n",
            "speaker2-/n0020101.wav\n",
            "speaker2-/n0020102.wav\n",
            "speaker2-/n0020103.wav\n",
            "speaker2-/n0020104.wav\n",
            "speaker2-/n0020105.wav\n",
            "+ modeling completed for speaker: speaker2 .svm  with data point =  (824, 10)\n",
            "speaker3-/n0030101.wav\n",
            "speaker3-/n0030102.wav\n",
            "speaker3-/n0030103.wav\n",
            "speaker3-/n0030104.wav\n",
            "speaker3-/n0030105.wav\n",
            "+ modeling completed for speaker: speaker3 .svm  with data point =  (1500, 10)\n",
            "speaker4-/n0040101.wav\n",
            "speaker4-/n0040102.wav\n",
            "speaker4-/n0040103.wav\n",
            "speaker4-/n0040104.wav\n",
            "speaker4-/n0040105.wav\n",
            "+ modeling completed for speaker: speaker4 .svm  with data point =  (703, 10)\n",
            "speaker6-/n0060101.wav\n",
            "speaker6-/n0060102.wav\n",
            "speaker6-/n0060103.wav\n",
            "speaker6-/n0060104.wav\n",
            "speaker6-/n0060105.wav\n",
            "+ modeling completed for speaker: speaker6 .svm  with data point =  (540, 10)\n",
            "speaker7-/n0070101.wav\n",
            "speaker7-/n0070102.wav\n",
            "speaker7-/n0070103.wav\n",
            "speaker7-/n0070104.wav\n",
            "speaker7-/n0070105.wav\n",
            "+ modeling completed for speaker: speaker7 .svm  with data point =  (751, 10)\n",
            "speaker8-/n0080101.wav\n",
            "speaker8-/n0080102.wav\n",
            "speaker8-/n0080103.wav\n",
            "speaker8-/n0080104.wav\n",
            "speaker8-/n0080105.wav\n",
            "+ modeling completed for speaker: speaker8 .svm  with data point =  (622, 10)\n",
            "speaker9-/n0090101.wav\n",
            "speaker9-/n0090102.wav\n",
            "speaker9-/n0090103.wav\n",
            "speaker9-/n0090104.wav\n",
            "speaker9-/n0090105.wav\n",
            "+ modeling completed for speaker: speaker9 .svm  with data point =  (745, 10)\n",
            "speaker10-/n0100101.wav\n",
            "speaker10-/n0100102.wav\n",
            "speaker10-/n0100103.wav\n",
            "speaker10-/n0100104.wav\n",
            "speaker10-/n0100105.wav\n",
            "+ modeling completed for speaker: speaker10 .svm  with data point =  (660, 10)\n",
            "speaker11-/n0110101.wav\n",
            "speaker11-/n0110102.wav\n",
            "speaker11-/n0110103.wav\n",
            "speaker11-/n0110104.wav\n",
            "speaker11-/n0110105.wav\n",
            "+ modeling completed for speaker: speaker11 .svm  with data point =  (479, 10)\n",
            "speaker12-/n0120101.wav\n",
            "speaker12-/n0120102.wav\n",
            "speaker12-/n0120103.wav\n",
            "speaker12-/n0120104.wav\n",
            "speaker12-/n0120105.wav\n",
            "+ modeling completed for speaker: speaker12 .svm  with data point =  (850, 10)\n",
            "speaker13-/n0130101.wav\n",
            "speaker13-/n0130102.wav\n",
            "speaker13-/n0130103.wav\n",
            "speaker13-/n0130104.wav\n",
            "speaker13-/n0130105.wav\n",
            "+ modeling completed for speaker: speaker13 .svm  with data point =  (706, 10)\n",
            "speaker14-/n0140101.wav\n",
            "speaker14-/n0140102.wav\n",
            "speaker14-/n0140103.wav\n",
            "speaker14-/n0140104.wav\n",
            "speaker14-/n0140105.wav\n",
            "+ modeling completed for speaker: speaker14 .svm  with data point =  (532, 10)\n",
            "speaker15-/n0150101.wav\n",
            "speaker15-/n0150102.wav\n",
            "speaker15-/n0150103.wav\n",
            "speaker15-/n0150104.wav\n",
            "speaker15-/n0150105.wav\n",
            "+ modeling completed for speaker: speaker15 .svm  with data point =  (3823, 10)\n",
            "speaker16-/n0160101.wav\n",
            "speaker16-/n0160102.wav\n",
            "speaker16-/n0160103.wav\n",
            "speaker16-/n0160104.wav\n",
            "speaker16-/n0160105.wav\n",
            "+ modeling completed for speaker: speaker16 .svm  with data point =  (931, 10)\n",
            "speaker17-/n0170101.wav\n",
            "speaker17-/n0170102.wav\n",
            "speaker17-/n0170103.wav\n",
            "speaker17-/n0170104.wav\n",
            "speaker17-/n0170105.wav\n",
            "+ modeling completed for speaker: speaker17 .svm  with data point =  (1134, 10)\n",
            "speaker18-/n0180101.wav\n",
            "speaker18-/n0180102.wav\n",
            "speaker18-/n0180103.wav\n",
            "speaker18-/n0180104.wav\n",
            "speaker18-/n0180105.wav\n",
            "+ modeling completed for speaker: speaker18 .svm  with data point =  (772, 10)\n",
            "speaker19-/n0190101.wav\n",
            "speaker19-/n0190102.wav\n",
            "speaker19-/n0190103.wav\n",
            "speaker19-/n0190104.wav\n",
            "speaker19-/n0190105.wav\n",
            "+ modeling completed for speaker: speaker19 .svm  with data point =  (1377, 10)\n",
            "speaker20-/n0200101.wav\n",
            "speaker20-/n0200102.wav\n",
            "speaker20-/n0200103.wav\n",
            "speaker20-/n0200104.wav\n",
            "speaker20-/n0200105.wav\n",
            "+ modeling completed for speaker: speaker20 .svm  with data point =  (797, 10)\n",
            "speaker22-/n0220101.wav\n",
            "speaker22-/n0220102.wav\n",
            "speaker22-/n0220103.wav\n",
            "speaker22-/n0220104.wav\n",
            "speaker22-/n0220105.wav\n",
            "+ modeling completed for speaker: speaker22 .svm  with data point =  (625, 10)\n",
            "speaker23-/n0230101.wav\n",
            "speaker23-/n0230102.wav\n",
            "speaker23-/n0230103.wav\n",
            "speaker23-/n0230104.wav\n",
            "speaker23-/n0230105.wav\n",
            "+ modeling completed for speaker: speaker23 .svm  with data point =  (502, 10)\n",
            "speaker24-/n0240101.wav\n",
            "speaker24-/n0240102.wav\n",
            "speaker24-/n0240103.wav\n",
            "speaker24-/n0240104.wav\n",
            "speaker24-/n0240105.wav\n",
            "+ modeling completed for speaker: speaker24 .svm  with data point =  (1339, 10)\n"
          ]
        }
      ]
    },
    {
      "cell_type": "code",
      "source": [
        "#training model\n",
        "model = SVC(C=5, class_weight = \"balanced\", decision_function_shape = 'ovo')\n",
        "model.fit(x_train, y_train)"
      ],
      "metadata": {
        "colab": {
          "base_uri": "https://localhost:8080/"
        },
        "id": "WNZU17H_yrpA",
        "outputId": "fe672ca4-4147-4aa7-82e4-906009ec53e2"
      },
      "execution_count": null,
      "outputs": [
        {
          "output_type": "execute_result",
          "data": {
            "text/plain": [
              "SVC(C=5, class_weight='balanced', decision_function_shape='ovo')"
            ]
          },
          "metadata": {},
          "execution_count": 46
        }
      ]
    },
    {
      "cell_type": "code",
      "source": [
        "picklefile = \"model_5.svm\"\n",
        "cPickle.dump(model, open(dest + picklefile,'wb'))"
      ],
      "metadata": {
        "id": "y6Mdn1VXyufJ"
      },
      "execution_count": null,
      "outputs": []
    },
    {
      "cell_type": "markdown",
      "source": [
        "test"
      ],
      "metadata": {
        "id": "Jz51leUjywwI"
      }
    },
    {
      "cell_type": "code",
      "source": [
        "test_file = \"baza_arg_test.txt\"  #  \n",
        "file_paths = open(test_file, 'r')\n",
        "\n",
        "svm_model = cPickle.load(open(dest + \"model_5.svm\",'rb'))\n",
        "\n",
        "files  = [os.path.join(source, f[0:len(f)-1]) for f in file_paths]"
      ],
      "metadata": {
        "id": "zsDPt5wryxj5"
      },
      "execution_count": null,
      "outputs": []
    },
    {
      "cell_type": "code",
      "source": [
        "accuracy = 0\n",
        "y_tested = []\n",
        "y_pred = []\n",
        "total_sample = 0\n",
        "for i, path in enumerate(files):\n",
        "    total_sample += 1\n",
        "    #read file\n",
        "    Fs, audio = read(path)\n",
        "    path = path.strip()\n",
        "    print (path)\n",
        "    #extract mfcc feautures \n",
        "    vector = extract_features(audio, Fs)\n",
        "    #predict the cluster\n",
        "    temp = svm_model.predict(vector)\n",
        "    #take most probable\n",
        "    y_test = Counter(temp).most_common()[0]\n",
        "    #check if it was proper prediction\n",
        "    if(path.split(\"/\")[1].split(\"-\")[0] == label_dict[y_test[0]]):\n",
        "        accuracy += 1\n",
        "        print (\"\\tPredicted as - \", label_dict[y_test[0]])\n",
        "        print('-'*20)\n",
        "    else:\n",
        "        print (\"\\tPredicted as - \",  label_dict[y_test[0]])\n",
        "        print('-'*20)\n",
        "    y_tested.append(path.split(\"/\")[1].split(\"-\")[0])\n",
        "    y_pred.append(label_dict[y_test[0]])\n",
        "print(\"Accuracy =\", accuracy/total_sample*100, \"%\")\n",
        "print(y_tested)\n",
        "print(y_pred)"
      ],
      "metadata": {
        "colab": {
          "base_uri": "https://localhost:8080/"
        },
        "id": "R8HzlorGy3I4",
        "outputId": "f0192137-ef43-4a9e-e537-bd2b599c892c"
      },
      "execution_count": null,
      "outputs": [
        {
          "output_type": "stream",
          "name": "stdout",
          "text": [
            "baza_arg/speaker1-/n0010106.wav\n",
            "\tPredicted as -  speaker1\n",
            "--------------------\n",
            "baza_arg/speaker1-/n0010107.wav\n",
            "\tPredicted as -  speaker1\n",
            "--------------------\n",
            "baza_arg/speaker1-/n0010108.wav\n",
            "\tPredicted as -  speaker1\n",
            "--------------------\n",
            "baza_arg/speaker1-/n0010109.wav\n",
            "\tPredicted as -  speaker1\n",
            "--------------------\n",
            "baza_arg/speaker1-/n0010110.wav\n",
            "\tPredicted as -  speaker1\n",
            "--------------------\n",
            "baza_arg/speaker2-/n0020106.wav\n",
            "\tPredicted as -  speaker2\n",
            "--------------------\n",
            "baza_arg/speaker2-/n0020107.wav\n",
            "\tPredicted as -  speaker2\n",
            "--------------------\n",
            "baza_arg/speaker2-/n0020108.wav\n",
            "\tPredicted as -  speaker2\n",
            "--------------------\n",
            "baza_arg/speaker2-/n0020109.wav\n",
            "\tPredicted as -  speaker2\n",
            "--------------------\n",
            "baza_arg/speaker2-/n0020110.wav\n",
            "\tPredicted as -  speaker2\n",
            "--------------------\n",
            "baza_arg/speaker3-/n0030106.wav\n",
            "\tPredicted as -  speaker3\n",
            "--------------------\n",
            "baza_arg/speaker3-/n0030107.wav\n",
            "\tPredicted as -  speaker3\n",
            "--------------------\n",
            "baza_arg/speaker3-/n0030108.wav\n",
            "\tPredicted as -  speaker3\n",
            "--------------------\n",
            "baza_arg/speaker3-/n0030109.wav\n",
            "\tPredicted as -  speaker3\n",
            "--------------------\n",
            "baza_arg/speaker3-/n0030110.wav\n",
            "\tPredicted as -  speaker3\n",
            "--------------------\n",
            "baza_arg/speaker4-/n0040106.wav\n",
            "\tPredicted as -  speaker4\n",
            "--------------------\n",
            "baza_arg/speaker4-/n0040107.wav\n",
            "\tPredicted as -  speaker4\n",
            "--------------------\n",
            "baza_arg/speaker4-/n0040108.wav\n",
            "\tPredicted as -  speaker4\n",
            "--------------------\n",
            "baza_arg/speaker4-/n0040109.wav\n",
            "\tPredicted as -  speaker4\n",
            "--------------------\n",
            "baza_arg/speaker4-/n0040110.wav\n",
            "\tPredicted as -  speaker4\n",
            "--------------------\n",
            "baza_arg/speaker6-/n0060106.wav\n",
            "\tPredicted as -  speaker6\n",
            "--------------------\n",
            "baza_arg/speaker6-/n0060107.wav\n",
            "\tPredicted as -  speaker6\n",
            "--------------------\n",
            "baza_arg/speaker6-/n0060108.wav\n",
            "\tPredicted as -  speaker6\n",
            "--------------------\n",
            "baza_arg/speaker6-/n0060109.wav\n",
            "\tPredicted as -  speaker6\n",
            "--------------------\n",
            "baza_arg/speaker6-/n0060110.wav\n",
            "\tPredicted as -  speaker6\n",
            "--------------------\n",
            "baza_arg/speaker7-/n0070106.wav\n",
            "\tPredicted as -  speaker7\n",
            "--------------------\n",
            "baza_arg/speaker7-/n0070107.wav\n",
            "\tPredicted as -  speaker7\n",
            "--------------------\n",
            "baza_arg/speaker7-/n0070108.wav\n",
            "\tPredicted as -  speaker7\n",
            "--------------------\n",
            "baza_arg/speaker7-/n0070109.wav\n",
            "\tPredicted as -  speaker7\n",
            "--------------------\n",
            "baza_arg/speaker7-/n0070110.wav\n",
            "\tPredicted as -  speaker7\n",
            "--------------------\n",
            "baza_arg/speaker8-/n0080106.wav\n",
            "\tPredicted as -  speaker8\n",
            "--------------------\n",
            "baza_arg/speaker8-/n0080107.wav\n",
            "\tPredicted as -  speaker8\n",
            "--------------------\n",
            "baza_arg/speaker8-/n0080108.wav\n",
            "\tPredicted as -  speaker8\n",
            "--------------------\n",
            "baza_arg/speaker8-/n0080109.wav\n",
            "\tPredicted as -  speaker8\n",
            "--------------------\n",
            "baza_arg/speaker8-/n0080110.wav\n",
            "\tPredicted as -  speaker8\n",
            "--------------------\n",
            "baza_arg/speaker9-/n0090106.wav\n",
            "\tPredicted as -  speaker9\n",
            "--------------------\n",
            "baza_arg/speaker9-/n0090107.wav\n",
            "\tPredicted as -  speaker9\n",
            "--------------------\n",
            "baza_arg/speaker9-/n0090108.wav\n",
            "\tPredicted as -  speaker9\n",
            "--------------------\n",
            "baza_arg/speaker9-/n0090109.wav\n",
            "\tPredicted as -  speaker9\n",
            "--------------------\n",
            "baza_arg/speaker9-/n0090110.wav\n",
            "\tPredicted as -  speaker9\n",
            "--------------------\n",
            "baza_arg/speaker10-/n0100106.wav\n",
            "\tPredicted as -  speaker10\n",
            "--------------------\n",
            "baza_arg/speaker10-/n0100107.wav\n",
            "\tPredicted as -  speaker10\n",
            "--------------------\n",
            "baza_arg/speaker10-/n0100108.wav\n",
            "\tPredicted as -  speaker10\n",
            "--------------------\n",
            "baza_arg/speaker10-/n0100109.wav\n",
            "\tPredicted as -  speaker10\n",
            "--------------------\n",
            "baza_arg/speaker10-/n0100110.wav\n",
            "\tPredicted as -  speaker10\n",
            "--------------------\n",
            "baza_arg/speaker11-/n0110106.wav\n",
            "\tPredicted as -  speaker11\n",
            "--------------------\n",
            "baza_arg/speaker11-/n0110107.wav\n",
            "\tPredicted as -  speaker11\n",
            "--------------------\n",
            "baza_arg/speaker11-/n0110108.wav\n",
            "\tPredicted as -  speaker11\n",
            "--------------------\n",
            "baza_arg/speaker11-/n0110109.wav\n",
            "\tPredicted as -  speaker11\n",
            "--------------------\n",
            "baza_arg/speaker11-/n0110110.wav\n",
            "\tPredicted as -  speaker11\n",
            "--------------------\n",
            "baza_arg/speaker12-/n0120106.wav\n",
            "\tPredicted as -  speaker12\n",
            "--------------------\n",
            "baza_arg/speaker12-/n0120107.wav\n",
            "\tPredicted as -  speaker12\n",
            "--------------------\n",
            "baza_arg/speaker12-/n0120108.wav\n",
            "\tPredicted as -  speaker12\n",
            "--------------------\n",
            "baza_arg/speaker12-/n0120109.wav\n",
            "\tPredicted as -  speaker12\n",
            "--------------------\n",
            "baza_arg/speaker12-/n0120110.wav\n",
            "\tPredicted as -  speaker12\n",
            "--------------------\n",
            "baza_arg/speaker13-/n0130106.wav\n",
            "\tPredicted as -  speaker13\n",
            "--------------------\n",
            "baza_arg/speaker13-/n0130107.wav\n",
            "\tPredicted as -  speaker13\n",
            "--------------------\n",
            "baza_arg/speaker13-/n0130108.wav\n",
            "\tPredicted as -  speaker13\n",
            "--------------------\n",
            "baza_arg/speaker13-/n0130109.wav\n",
            "\tPredicted as -  speaker13\n",
            "--------------------\n",
            "baza_arg/speaker13-/n0130110.wav\n",
            "\tPredicted as -  speaker13\n",
            "--------------------\n",
            "baza_arg/speaker14-/n0140106.wav\n",
            "\tPredicted as -  speaker14\n",
            "--------------------\n",
            "baza_arg/speaker14-/n0140107.wav\n",
            "\tPredicted as -  speaker14\n",
            "--------------------\n",
            "baza_arg/speaker14-/n0140108.wav\n",
            "\tPredicted as -  speaker14\n",
            "--------------------\n",
            "baza_arg/speaker14-/n0140109.wav\n",
            "\tPredicted as -  speaker14\n",
            "--------------------\n",
            "baza_arg/speaker14-/n0140110.wav\n",
            "\tPredicted as -  speaker14\n",
            "--------------------\n",
            "baza_arg/speaker15-/n0150106.wav\n",
            "\tPredicted as -  speaker15\n",
            "--------------------\n",
            "baza_arg/speaker15-/n0150107.wav\n",
            "\tPredicted as -  speaker15\n",
            "--------------------\n",
            "baza_arg/speaker15-/n0150108.wav\n",
            "\tPredicted as -  speaker15\n",
            "--------------------\n",
            "baza_arg/speaker15-/n0150109.wav\n",
            "\tPredicted as -  speaker15\n",
            "--------------------\n",
            "baza_arg/speaker15-/n0150110.wav\n",
            "\tPredicted as -  speaker15\n",
            "--------------------\n",
            "baza_arg/speaker16-/n0160106.wav\n",
            "\tPredicted as -  speaker16\n",
            "--------------------\n",
            "baza_arg/speaker16-/n0160107.wav\n",
            "\tPredicted as -  speaker16\n",
            "--------------------\n",
            "baza_arg/speaker16-/n0160108.wav\n",
            "\tPredicted as -  speaker16\n",
            "--------------------\n",
            "baza_arg/speaker16-/n0160109.wav\n",
            "\tPredicted as -  speaker16\n",
            "--------------------\n",
            "baza_arg/speaker16-/n0160110.wav\n",
            "\tPredicted as -  speaker16\n",
            "--------------------\n",
            "baza_arg/speaker17-/n0170106.wav\n",
            "\tPredicted as -  speaker17\n",
            "--------------------\n",
            "baza_arg/speaker17-/n0170107.wav\n",
            "\tPredicted as -  speaker17\n",
            "--------------------\n",
            "baza_arg/speaker17-/n0170108.wav\n",
            "\tPredicted as -  speaker17\n",
            "--------------------\n",
            "baza_arg/speaker17-/n0170109.wav\n",
            "\tPredicted as -  speaker17\n",
            "--------------------\n",
            "baza_arg/speaker17-/n0170110.wav\n",
            "\tPredicted as -  speaker17\n",
            "--------------------\n",
            "baza_arg/speaker18-/n0180106.wav\n",
            "\tPredicted as -  speaker18\n",
            "--------------------\n",
            "baza_arg/speaker18-/n0180107.wav\n",
            "\tPredicted as -  speaker18\n",
            "--------------------\n",
            "baza_arg/speaker18-/n0180108.wav\n",
            "\tPredicted as -  speaker18\n",
            "--------------------\n",
            "baza_arg/speaker18-/n0180109.wav\n",
            "\tPredicted as -  speaker18\n",
            "--------------------\n",
            "baza_arg/speaker18-/n0180110.wav\n",
            "\tPredicted as -  speaker18\n",
            "--------------------\n",
            "baza_arg/speaker19-/n0190106.wav\n",
            "\tPredicted as -  speaker19\n",
            "--------------------\n",
            "baza_arg/speaker19-/n0190107.wav\n",
            "\tPredicted as -  speaker19\n",
            "--------------------\n",
            "baza_arg/speaker19-/n0190108.wav\n",
            "\tPredicted as -  speaker19\n",
            "--------------------\n",
            "baza_arg/speaker19-/n0190109.wav\n",
            "\tPredicted as -  speaker19\n",
            "--------------------\n",
            "baza_arg/speaker19-/n0190110.wav\n",
            "\tPredicted as -  speaker19\n",
            "--------------------\n",
            "baza_arg/speaker20-/n0200106.wav\n",
            "\tPredicted as -  speaker13\n",
            "--------------------\n",
            "baza_arg/speaker20-/n0200107.wav\n",
            "\tPredicted as -  speaker13\n",
            "--------------------\n",
            "baza_arg/speaker20-/n0200108.wav\n",
            "\tPredicted as -  speaker20\n",
            "--------------------\n",
            "baza_arg/speaker20-/n0200109.wav\n",
            "\tPredicted as -  speaker20\n",
            "--------------------\n",
            "baza_arg/speaker20-/n0200110.wav\n",
            "\tPredicted as -  speaker20\n",
            "--------------------\n",
            "baza_arg/speaker22-/n0220106.wav\n",
            "\tPredicted as -  speaker22\n",
            "--------------------\n",
            "baza_arg/speaker22-/n0220107.wav\n",
            "\tPredicted as -  speaker22\n",
            "--------------------\n",
            "baza_arg/speaker22-/n0220108.wav\n",
            "\tPredicted as -  speaker22\n",
            "--------------------\n",
            "baza_arg/speaker22-/n0220109.wav\n",
            "\tPredicted as -  speaker20\n",
            "--------------------\n",
            "baza_arg/speaker22-/n0220110.wav\n",
            "\tPredicted as -  speaker22\n",
            "--------------------\n",
            "baza_arg/speaker23-/n0230106.wav\n",
            "\tPredicted as -  speaker23\n",
            "--------------------\n",
            "baza_arg/speaker23-/n0230107.wav\n",
            "\tPredicted as -  speaker23\n",
            "--------------------\n",
            "baza_arg/speaker23-/n0230108.wav\n",
            "\tPredicted as -  speaker23\n",
            "--------------------\n",
            "baza_arg/speaker23-/n0230109.wav\n",
            "\tPredicted as -  speaker23\n",
            "--------------------\n",
            "baza_arg/speaker23-/n0230110.wav\n",
            "\tPredicted as -  speaker23\n",
            "--------------------\n",
            "baza_arg/speaker24-/n0240106.wav\n",
            "\tPredicted as -  speaker24\n",
            "--------------------\n",
            "baza_arg/speaker24-/n0240107.wav\n",
            "\tPredicted as -  speaker24\n",
            "--------------------\n",
            "baza_arg/speaker24-/n0240108.wav\n",
            "\tPredicted as -  speaker24\n",
            "--------------------\n",
            "baza_arg/speaker24-/n0240109.wav\n",
            "\tPredicted as -  speaker24\n",
            "--------------------\n",
            "baza_arg/speaker24-/n0240110.wav\n",
            "\tPredicted as -  speaker24\n",
            "--------------------\n",
            "Accuracy = 97.27272727272728 %\n",
            "['speaker1', 'speaker1', 'speaker1', 'speaker1', 'speaker1', 'speaker2', 'speaker2', 'speaker2', 'speaker2', 'speaker2', 'speaker3', 'speaker3', 'speaker3', 'speaker3', 'speaker3', 'speaker4', 'speaker4', 'speaker4', 'speaker4', 'speaker4', 'speaker6', 'speaker6', 'speaker6', 'speaker6', 'speaker6', 'speaker7', 'speaker7', 'speaker7', 'speaker7', 'speaker7', 'speaker8', 'speaker8', 'speaker8', 'speaker8', 'speaker8', 'speaker9', 'speaker9', 'speaker9', 'speaker9', 'speaker9', 'speaker10', 'speaker10', 'speaker10', 'speaker10', 'speaker10', 'speaker11', 'speaker11', 'speaker11', 'speaker11', 'speaker11', 'speaker12', 'speaker12', 'speaker12', 'speaker12', 'speaker12', 'speaker13', 'speaker13', 'speaker13', 'speaker13', 'speaker13', 'speaker14', 'speaker14', 'speaker14', 'speaker14', 'speaker14', 'speaker15', 'speaker15', 'speaker15', 'speaker15', 'speaker15', 'speaker16', 'speaker16', 'speaker16', 'speaker16', 'speaker16', 'speaker17', 'speaker17', 'speaker17', 'speaker17', 'speaker17', 'speaker18', 'speaker18', 'speaker18', 'speaker18', 'speaker18', 'speaker19', 'speaker19', 'speaker19', 'speaker19', 'speaker19', 'speaker20', 'speaker20', 'speaker20', 'speaker20', 'speaker20', 'speaker22', 'speaker22', 'speaker22', 'speaker22', 'speaker22', 'speaker23', 'speaker23', 'speaker23', 'speaker23', 'speaker23', 'speaker24', 'speaker24', 'speaker24', 'speaker24', 'speaker24']\n",
            "['speaker1', 'speaker1', 'speaker1', 'speaker1', 'speaker1', 'speaker2', 'speaker2', 'speaker2', 'speaker2', 'speaker2', 'speaker3', 'speaker3', 'speaker3', 'speaker3', 'speaker3', 'speaker4', 'speaker4', 'speaker4', 'speaker4', 'speaker4', 'speaker6', 'speaker6', 'speaker6', 'speaker6', 'speaker6', 'speaker7', 'speaker7', 'speaker7', 'speaker7', 'speaker7', 'speaker8', 'speaker8', 'speaker8', 'speaker8', 'speaker8', 'speaker9', 'speaker9', 'speaker9', 'speaker9', 'speaker9', 'speaker10', 'speaker10', 'speaker10', 'speaker10', 'speaker10', 'speaker11', 'speaker11', 'speaker11', 'speaker11', 'speaker11', 'speaker12', 'speaker12', 'speaker12', 'speaker12', 'speaker12', 'speaker13', 'speaker13', 'speaker13', 'speaker13', 'speaker13', 'speaker14', 'speaker14', 'speaker14', 'speaker14', 'speaker14', 'speaker15', 'speaker15', 'speaker15', 'speaker15', 'speaker15', 'speaker16', 'speaker16', 'speaker16', 'speaker16', 'speaker16', 'speaker17', 'speaker17', 'speaker17', 'speaker17', 'speaker17', 'speaker18', 'speaker18', 'speaker18', 'speaker18', 'speaker18', 'speaker19', 'speaker19', 'speaker19', 'speaker19', 'speaker19', 'speaker13', 'speaker13', 'speaker20', 'speaker20', 'speaker20', 'speaker22', 'speaker22', 'speaker22', 'speaker20', 'speaker22', 'speaker23', 'speaker23', 'speaker23', 'speaker23', 'speaker23', 'speaker24', 'speaker24', 'speaker24', 'speaker24', 'speaker24']\n"
          ]
        }
      ]
    },
    {
      "cell_type": "code",
      "source": [
        "cm = confusion_matrix(y_tested,y_pred)\n",
        "cm"
      ],
      "metadata": {
        "colab": {
          "base_uri": "https://localhost:8080/"
        },
        "id": "tM03gE0yGQ_G",
        "outputId": "d159a007-eeb3-4081-9ba1-d7be559c65aa"
      },
      "execution_count": null,
      "outputs": [
        {
          "output_type": "execute_result",
          "data": {
            "text/plain": [
              "array([[3, 0, 0, 0, 0, 0, 0, 0, 0, 0, 0, 0, 0, 0, 0, 0, 0, 0, 1, 0, 0, 1],\n",
              "       [0, 3, 0, 0, 2, 0, 0, 0, 0, 0, 0, 0, 0, 0, 0, 0, 0, 0, 0, 0, 0, 0],\n",
              "       [0, 0, 5, 0, 0, 0, 0, 0, 0, 0, 0, 0, 0, 0, 0, 0, 0, 0, 0, 0, 0, 0],\n",
              "       [0, 0, 0, 4, 0, 0, 0, 0, 0, 0, 0, 0, 0, 0, 0, 0, 0, 0, 0, 0, 1, 0],\n",
              "       [0, 0, 0, 0, 4, 0, 0, 0, 0, 1, 0, 0, 0, 0, 0, 0, 0, 0, 0, 0, 0, 0],\n",
              "       [0, 0, 0, 0, 0, 4, 0, 0, 0, 0, 0, 0, 0, 0, 1, 0, 0, 0, 0, 0, 0, 0],\n",
              "       [0, 0, 0, 0, 0, 0, 3, 0, 0, 0, 0, 0, 0, 0, 0, 0, 0, 0, 1, 0, 0, 1],\n",
              "       [0, 0, 0, 0, 0, 0, 0, 5, 0, 0, 0, 0, 0, 0, 0, 0, 0, 0, 0, 0, 0, 0],\n",
              "       [0, 0, 0, 0, 0, 0, 0, 4, 0, 0, 0, 1, 0, 0, 0, 0, 0, 0, 0, 0, 0, 0],\n",
              "       [0, 0, 0, 0, 1, 0, 0, 0, 0, 4, 0, 0, 0, 0, 0, 0, 0, 0, 0, 0, 0, 0],\n",
              "       [0, 0, 0, 0, 0, 0, 0, 0, 0, 0, 5, 0, 0, 0, 0, 0, 0, 0, 0, 0, 0, 0],\n",
              "       [0, 0, 0, 0, 0, 0, 0, 0, 0, 0, 0, 5, 0, 0, 0, 0, 0, 0, 0, 0, 0, 0],\n",
              "       [0, 0, 0, 0, 2, 0, 0, 0, 0, 0, 0, 0, 2, 0, 0, 0, 0, 0, 0, 0, 0, 1],\n",
              "       [0, 0, 1, 0, 0, 0, 0, 0, 0, 0, 0, 0, 1, 1, 0, 0, 0, 0, 0, 0, 0, 2],\n",
              "       [0, 0, 0, 0, 0, 0, 0, 0, 0, 0, 0, 0, 0, 0, 5, 0, 0, 0, 0, 0, 0, 0],\n",
              "       [0, 0, 0, 0, 0, 0, 0, 0, 0, 0, 0, 0, 0, 0, 0, 5, 0, 0, 0, 0, 0, 0],\n",
              "       [0, 0, 0, 0, 0, 0, 0, 0, 0, 0, 0, 0, 0, 0, 0, 0, 5, 0, 0, 0, 0, 0],\n",
              "       [0, 0, 0, 0, 0, 0, 0, 0, 0, 0, 0, 0, 0, 0, 0, 0, 0, 5, 0, 0, 0, 0],\n",
              "       [0, 0, 0, 0, 0, 0, 0, 0, 0, 0, 0, 0, 0, 0, 0, 0, 0, 0, 5, 0, 0, 0],\n",
              "       [0, 0, 0, 0, 0, 0, 0, 0, 0, 0, 0, 0, 1, 0, 0, 0, 0, 1, 1, 1, 0, 1],\n",
              "       [0, 0, 0, 0, 0, 0, 0, 0, 0, 0, 0, 0, 1, 0, 0, 0, 0, 1, 2, 0, 1, 0],\n",
              "       [0, 0, 0, 0, 0, 0, 0, 0, 0, 0, 0, 0, 0, 0, 0, 0, 0, 0, 0, 0, 0, 5]])"
            ]
          },
          "metadata": {},
          "execution_count": 35
        }
      ]
    },
    {
      "cell_type": "code",
      "source": [
        "df_cm = pd.DataFrame(cm, index=np.unique(y_tested), columns=np.unique(y_tested))\n",
        "plt.figure(figsize = (10,7))\n",
        "sn.heatmap(df_cm, annot=True)"
      ],
      "metadata": {
        "colab": {
          "base_uri": "https://localhost:8080/",
          "height": 492
        },
        "id": "-du-abl0GZwS",
        "outputId": "b20e7ecc-9180-4cbb-adb5-bce1ad5977f5"
      },
      "execution_count": null,
      "outputs": [
        {
          "output_type": "execute_result",
          "data": {
            "text/plain": [
              "<matplotlib.axes._subplots.AxesSubplot at 0x7fbd77179c10>"
            ]
          },
          "metadata": {},
          "execution_count": 36
        },
        {
          "output_type": "display_data",
          "data": {
            "text/plain": [
              "<Figure size 720x504 with 2 Axes>"
            ],
            "image/png": "[encoded data removed]"
          },
          "metadata": {
            "needs_background": "light"
          }
        }
      ]
    },
    {
      "cell_type": "code",
      "source": [
        "def am_I_there(path):\n",
        "  Fs, audio = read(path)\n",
        "  vector = extract_features(audio, Fs)\n",
        "  temp = svm_model.predict(vector)\n",
        "  y_test = Counter(temp).most_common()[0]\n",
        "  \n",
        "  if(Counter(temp).most_common()[0][1] < 200):\n",
        "    print('Not in database')\n",
        "  else:\n",
        "    if(path.split(\"/\")[1].split(\"-\")[0] == label_dict[y_test[0]]):\n",
        "      print(i+1, \":\", path.split(\"/\")[1].split(\"-\")[0], \"Predicted as:\", label_dict[y_test[0]])\n",
        "    else:\n",
        "      print(\"-----------------------------------------------\")\n",
        "      print(i+1, \":\", path.split(\"/\")[1].split(\"-\")[0], \"Predicted as:\", label_dict[y_test[0]])\n",
        "      print(\"-----------------------------------------------\")"
      ],
      "metadata": {
        "id": "JCqycsyoXefA"
      },
      "execution_count": null,
      "outputs": []
    },
    {
      "cell_type": "code",
      "source": [
        "am_I_there('baza_arg/speaker3-/n0030101.wav')"
      ],
      "metadata": {
        "colab": {
          "base_uri": "https://localhost:8080/"
        },
        "id": "uuGa5BBGYFba",
        "outputId": "4254d15f-b89e-4f6f-d0d6-18ecb8e24b16"
      },
      "execution_count": null,
      "outputs": [
        {
          "output_type": "stream",
          "name": "stdout",
          "text": [
            "110 : speaker3 Predicted as: speaker3\n"
          ]
        }
      ]
    }
  ]
}